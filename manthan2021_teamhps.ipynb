{
  "nbformat": 4,
  "nbformat_minor": 0,
  "metadata": {
    "colab": {
      "name": "manthan2021-teamhps.ipynb",
      "provenance": [],
      "collapsed_sections": []
    },
    "kernelspec": {
      "name": "python3",
      "display_name": "Python 3"
    },
    "language_info": {
      "name": "python"
    }
  },
  "cells": [
    {
      "cell_type": "code",
      "metadata": {
        "id": "Pjuv7kLPlTYc",
        "colab": {
          "base_uri": "https://localhost:8080/",
          "height": 417
        },
        "outputId": "225c8c0d-c158-447a-8f11-482cfc175826"
      },
      "source": [
        "import pandas as pd\n",
        "\n",
        "data = pd.read_csv(\"train.csv\")\n",
        "data1 = pd.read_csv(\"test.csv\")\n",
        "data"
      ],
      "execution_count": null,
      "outputs": [
        {
          "output_type": "execute_result",
          "data": {
            "text/html": [
              "<div>\n",
              "<style scoped>\n",
              "    .dataframe tbody tr th:only-of-type {\n",
              "        vertical-align: middle;\n",
              "    }\n",
              "\n",
              "    .dataframe tbody tr th {\n",
              "        vertical-align: top;\n",
              "    }\n",
              "\n",
              "    .dataframe thead th {\n",
              "        text-align: right;\n",
              "    }\n",
              "</style>\n",
              "<table border=\"1\" class=\"dataframe\">\n",
              "  <thead>\n",
              "    <tr style=\"text-align: right;\">\n",
              "      <th></th>\n",
              "      <th>id</th>\n",
              "      <th>label</th>\n",
              "      <th>tweet</th>\n",
              "    </tr>\n",
              "  </thead>\n",
              "  <tbody>\n",
              "    <tr>\n",
              "      <th>0</th>\n",
              "      <td>1</td>\n",
              "      <td>0</td>\n",
              "      <td>@user when a father is dysfunctional and is so...</td>\n",
              "    </tr>\n",
              "    <tr>\n",
              "      <th>1</th>\n",
              "      <td>2</td>\n",
              "      <td>0</td>\n",
              "      <td>@user @user thanks for #lyft credit i can't us...</td>\n",
              "    </tr>\n",
              "    <tr>\n",
              "      <th>2</th>\n",
              "      <td>3</td>\n",
              "      <td>0</td>\n",
              "      <td>bihday your majesty</td>\n",
              "    </tr>\n",
              "    <tr>\n",
              "      <th>3</th>\n",
              "      <td>4</td>\n",
              "      <td>0</td>\n",
              "      <td>#model   i love u take with u all the time in ...</td>\n",
              "    </tr>\n",
              "    <tr>\n",
              "      <th>4</th>\n",
              "      <td>5</td>\n",
              "      <td>0</td>\n",
              "      <td>factsguide: society now    #motivation</td>\n",
              "    </tr>\n",
              "    <tr>\n",
              "      <th>...</th>\n",
              "      <td>...</td>\n",
              "      <td>...</td>\n",
              "      <td>...</td>\n",
              "    </tr>\n",
              "    <tr>\n",
              "      <th>9995</th>\n",
              "      <td>9996</td>\n",
              "      <td>0</td>\n",
              "      <td>@user my routine is out of whack! evening walk...</td>\n",
              "    </tr>\n",
              "    <tr>\n",
              "      <th>9996</th>\n",
              "      <td>9997</td>\n",
              "      <td>0</td>\n",
              "      <td>i'm dead but still happy #poledance #madrid ##...</td>\n",
              "    </tr>\n",
              "    <tr>\n",
              "      <th>9997</th>\n",
              "      <td>9998</td>\n",
              "      <td>0</td>\n",
              "      <td>â #united kingdom claimant count rate up to ...</td>\n",
              "    </tr>\n",
              "    <tr>\n",
              "      <th>9998</th>\n",
              "      <td>9999</td>\n",
              "      <td>0</td>\n",
              "      <td>rip my friend ð¢ð¢ #shocked   #dismay #hea...</td>\n",
              "    </tr>\n",
              "    <tr>\n",
              "      <th>9999</th>\n",
              "      <td>10000</td>\n",
              "      <td>0</td>\n",
              "      <td>how to open... your  , loving hea  #thursdayth...</td>\n",
              "    </tr>\n",
              "  </tbody>\n",
              "</table>\n",
              "<p>10000 rows × 3 columns</p>\n",
              "</div>"
            ],
            "text/plain": [
              "         id  label                                              tweet\n",
              "0         1      0  @user when a father is dysfunctional and is so...\n",
              "1         2      0  @user @user thanks for #lyft credit i can't us...\n",
              "2         3      0                                bihday your majesty\n",
              "3         4      0  #model   i love u take with u all the time in ...\n",
              "4         5      0             factsguide: society now    #motivation\n",
              "...     ...    ...                                                ...\n",
              "9995   9996      0  @user my routine is out of whack! evening walk...\n",
              "9996   9997      0  i'm dead but still happy #poledance #madrid ##...\n",
              "9997   9998      0  â #united kingdom claimant count rate up to ...\n",
              "9998   9999      0  rip my friend ð¢ð¢ #shocked   #dismay #hea...\n",
              "9999  10000      0  how to open... your  , loving hea  #thursdayth...\n",
              "\n",
              "[10000 rows x 3 columns]"
            ]
          },
          "metadata": {},
          "execution_count": 3
        }
      ]
    },
    {
      "cell_type": "code",
      "metadata": {
        "id": "k4mcyJiQuQlr",
        "colab": {
          "base_uri": "https://localhost:8080/"
        },
        "outputId": "a4352162-7ebe-4fe5-d6ca-82dd6c8fb13b"
      },
      "source": [
        "import nltk\n",
        "nltk.download('stopwords')\n",
        "from nltk.corpus import stopwords\n",
        "print(stopwords.words('english'))\n",
        "from wordcloud import WordCloud"
      ],
      "execution_count": null,
      "outputs": [
        {
          "output_type": "stream",
          "name": "stdout",
          "text": [
            "[nltk_data] Downloading package stopwords to /root/nltk_data...\n",
            "[nltk_data]   Package stopwords is already up-to-date!\n",
            "['i', 'me', 'my', 'myself', 'we', 'our', 'ours', 'ourselves', 'you', \"you're\", \"you've\", \"you'll\", \"you'd\", 'your', 'yours', 'yourself', 'yourselves', 'he', 'him', 'his', 'himself', 'she', \"she's\", 'her', 'hers', 'herself', 'it', \"it's\", 'its', 'itself', 'they', 'them', 'their', 'theirs', 'themselves', 'what', 'which', 'who', 'whom', 'this', 'that', \"that'll\", 'these', 'those', 'am', 'is', 'are', 'was', 'were', 'be', 'been', 'being', 'have', 'has', 'had', 'having', 'do', 'does', 'did', 'doing', 'a', 'an', 'the', 'and', 'but', 'if', 'or', 'because', 'as', 'until', 'while', 'of', 'at', 'by', 'for', 'with', 'about', 'against', 'between', 'into', 'through', 'during', 'before', 'after', 'above', 'below', 'to', 'from', 'up', 'down', 'in', 'out', 'on', 'off', 'over', 'under', 'again', 'further', 'then', 'once', 'here', 'there', 'when', 'where', 'why', 'how', 'all', 'any', 'both', 'each', 'few', 'more', 'most', 'other', 'some', 'such', 'no', 'nor', 'not', 'only', 'own', 'same', 'so', 'than', 'too', 'very', 's', 't', 'can', 'will', 'just', 'don', \"don't\", 'should', \"should've\", 'now', 'd', 'll', 'm', 'o', 're', 've', 'y', 'ain', 'aren', \"aren't\", 'couldn', \"couldn't\", 'didn', \"didn't\", 'doesn', \"doesn't\", 'hadn', \"hadn't\", 'hasn', \"hasn't\", 'haven', \"haven't\", 'isn', \"isn't\", 'ma', 'mightn', \"mightn't\", 'mustn', \"mustn't\", 'needn', \"needn't\", 'shan', \"shan't\", 'shouldn', \"shouldn't\", 'wasn', \"wasn't\", 'weren', \"weren't\", 'won', \"won't\", 'wouldn', \"wouldn't\"]\n"
          ]
        }
      ]
    },
    {
      "cell_type": "code",
      "metadata": {
        "id": "7nSwA1Kiuyau"
      },
      "source": [
        "import string\n",
        "string.punctuation\n",
        "\n",
        "def remove_punct(text):\n",
        "  text_= \"\".join([char for char in text if char not in string.punctuation])\n",
        "  return text_"
      ],
      "execution_count": null,
      "outputs": []
    },
    {
      "cell_type": "code",
      "metadata": {
        "id": "0WZ2syY0u45S",
        "colab": {
          "base_uri": "https://localhost:8080/",
          "height": 203
        },
        "outputId": "28c7b346-32f5-4717-b67a-8fbe04fa5840"
      },
      "source": [
        "data[\"tweet\"] = data[\"tweet\"].apply(lambda x: remove_punct(x))\n",
        "data.head()"
      ],
      "execution_count": null,
      "outputs": [
        {
          "output_type": "execute_result",
          "data": {
            "text/html": [
              "<div>\n",
              "<style scoped>\n",
              "    .dataframe tbody tr th:only-of-type {\n",
              "        vertical-align: middle;\n",
              "    }\n",
              "\n",
              "    .dataframe tbody tr th {\n",
              "        vertical-align: top;\n",
              "    }\n",
              "\n",
              "    .dataframe thead th {\n",
              "        text-align: right;\n",
              "    }\n",
              "</style>\n",
              "<table border=\"1\" class=\"dataframe\">\n",
              "  <thead>\n",
              "    <tr style=\"text-align: right;\">\n",
              "      <th></th>\n",
              "      <th>id</th>\n",
              "      <th>label</th>\n",
              "      <th>tweet</th>\n",
              "    </tr>\n",
              "  </thead>\n",
              "  <tbody>\n",
              "    <tr>\n",
              "      <th>0</th>\n",
              "      <td>1</td>\n",
              "      <td>0</td>\n",
              "      <td>user when a father is dysfunctional and is so ...</td>\n",
              "    </tr>\n",
              "    <tr>\n",
              "      <th>1</th>\n",
              "      <td>2</td>\n",
              "      <td>0</td>\n",
              "      <td>user user thanks for lyft credit i cant use ca...</td>\n",
              "    </tr>\n",
              "    <tr>\n",
              "      <th>2</th>\n",
              "      <td>3</td>\n",
              "      <td>0</td>\n",
              "      <td>bihday your majesty</td>\n",
              "    </tr>\n",
              "    <tr>\n",
              "      <th>3</th>\n",
              "      <td>4</td>\n",
              "      <td>0</td>\n",
              "      <td>model   i love u take with u all the time in u...</td>\n",
              "    </tr>\n",
              "    <tr>\n",
              "      <th>4</th>\n",
              "      <td>5</td>\n",
              "      <td>0</td>\n",
              "      <td>factsguide society now    motivation</td>\n",
              "    </tr>\n",
              "  </tbody>\n",
              "</table>\n",
              "</div>"
            ],
            "text/plain": [
              "   id  label                                              tweet\n",
              "0   1      0  user when a father is dysfunctional and is so ...\n",
              "1   2      0  user user thanks for lyft credit i cant use ca...\n",
              "2   3      0                                bihday your majesty\n",
              "3   4      0  model   i love u take with u all the time in u...\n",
              "4   5      0               factsguide society now    motivation"
            ]
          },
          "metadata": {},
          "execution_count": 6
        }
      ]
    },
    {
      "cell_type": "code",
      "metadata": {
        "id": "wX_tg6Vqvr2x",
        "colab": {
          "base_uri": "https://localhost:8080/",
          "height": 203
        },
        "outputId": "8499d4fd-504b-4838-bbf9-4bdb507f8e79"
      },
      "source": [
        "import regex as re\n",
        "def clean_(text):\n",
        "  text=re.sub(\"RT\",\"\",text)\n",
        "  return text\n",
        "\n",
        "data[\"tweet\"]=data[\"tweet\"].apply(lambda x: clean_(x))\n",
        "data.head()"
      ],
      "execution_count": null,
      "outputs": [
        {
          "output_type": "execute_result",
          "data": {
            "text/html": [
              "<div>\n",
              "<style scoped>\n",
              "    .dataframe tbody tr th:only-of-type {\n",
              "        vertical-align: middle;\n",
              "    }\n",
              "\n",
              "    .dataframe tbody tr th {\n",
              "        vertical-align: top;\n",
              "    }\n",
              "\n",
              "    .dataframe thead th {\n",
              "        text-align: right;\n",
              "    }\n",
              "</style>\n",
              "<table border=\"1\" class=\"dataframe\">\n",
              "  <thead>\n",
              "    <tr style=\"text-align: right;\">\n",
              "      <th></th>\n",
              "      <th>id</th>\n",
              "      <th>label</th>\n",
              "      <th>tweet</th>\n",
              "    </tr>\n",
              "  </thead>\n",
              "  <tbody>\n",
              "    <tr>\n",
              "      <th>0</th>\n",
              "      <td>1</td>\n",
              "      <td>0</td>\n",
              "      <td>user when a father is dysfunctional and is so ...</td>\n",
              "    </tr>\n",
              "    <tr>\n",
              "      <th>1</th>\n",
              "      <td>2</td>\n",
              "      <td>0</td>\n",
              "      <td>user user thanks for lyft credit i cant use ca...</td>\n",
              "    </tr>\n",
              "    <tr>\n",
              "      <th>2</th>\n",
              "      <td>3</td>\n",
              "      <td>0</td>\n",
              "      <td>bihday your majesty</td>\n",
              "    </tr>\n",
              "    <tr>\n",
              "      <th>3</th>\n",
              "      <td>4</td>\n",
              "      <td>0</td>\n",
              "      <td>model   i love u take with u all the time in u...</td>\n",
              "    </tr>\n",
              "    <tr>\n",
              "      <th>4</th>\n",
              "      <td>5</td>\n",
              "      <td>0</td>\n",
              "      <td>factsguide society now    motivation</td>\n",
              "    </tr>\n",
              "  </tbody>\n",
              "</table>\n",
              "</div>"
            ],
            "text/plain": [
              "   id  label                                              tweet\n",
              "0   1      0  user when a father is dysfunctional and is so ...\n",
              "1   2      0  user user thanks for lyft credit i cant use ca...\n",
              "2   3      0                                bihday your majesty\n",
              "3   4      0  model   i love u take with u all the time in u...\n",
              "4   5      0               factsguide society now    motivation"
            ]
          },
          "metadata": {},
          "execution_count": 7
        }
      ]
    },
    {
      "cell_type": "code",
      "metadata": {
        "id": "0j6aXMISvM06"
      },
      "source": [
        "import regex as re\n",
        "def tokenize(text):\n",
        "  tokens=re.split('\\W+',text)\n",
        "  return tokens\n",
        "data[\"tweet\"]=data[\"tweet\"].apply(lambda x: tokenize(x.lower()))\n"
      ],
      "execution_count": null,
      "outputs": []
    },
    {
      "cell_type": "code",
      "metadata": {
        "id": "MLQs7AN4vSxS"
      },
      "source": [
        "import nltk\n",
        "stopword = nltk.corpus.stopwords.words('english')"
      ],
      "execution_count": null,
      "outputs": []
    },
    {
      "cell_type": "code",
      "metadata": {
        "id": "OMePpxLSw9P2"
      },
      "source": [
        "def remove_stopwords(list_):\n",
        "  text=[word for word in list_ if word not in stopword]\n",
        "  return text\n",
        "data[\"tweet\"]=data[\"tweet\"].apply(lambda x: remove_stopwords(x))\n"
      ],
      "execution_count": null,
      "outputs": []
    },
    {
      "cell_type": "code",
      "metadata": {
        "id": "6SZAGbaSxDmt"
      },
      "source": [
        "stemming=nltk.PorterStemmer()\n",
        "\n",
        "def stem_(text_):\n",
        "  text=[stemming.stem(word) for word in text_]\n",
        "  return text\n",
        "data[\"tweet\"]=data[\"tweet\"].apply(lambda x: stem_(x))\n"
      ],
      "execution_count": null,
      "outputs": []
    },
    {
      "cell_type": "code",
      "metadata": {
        "id": "QX6AxJGpxTf-",
        "colab": {
          "base_uri": "https://localhost:8080/"
        },
        "outputId": "da732464-f429-4b0e-bafc-86ab2b90e3bc"
      },
      "source": [
        "nltk.download('wordnet')\n",
        "wn=nltk.WordNetLemmatizer()\n",
        "\n",
        "def lemmatizing(tok_text):\n",
        "  text_= [wn.lemmatize(word) for word in tok_text]\n",
        "  return text_\n",
        "\n",
        "data[\"tweet\"]=data[\"tweet\"].apply(lambda x: lemmatizing(x))\n"
      ],
      "execution_count": null,
      "outputs": [
        {
          "output_type": "stream",
          "name": "stdout",
          "text": [
            "[nltk_data] Downloading package wordnet to /root/nltk_data...\n",
            "[nltk_data]   Package wordnet is already up-to-date!\n"
          ]
        }
      ]
    },
    {
      "cell_type": "code",
      "metadata": {
        "id": "cCOhTQ4KxmAu"
      },
      "source": [
        "data[\"tweet\"] = [\" \".join(map(str, j)) for j in data[\"tweet\"]]\n"
      ],
      "execution_count": null,
      "outputs": []
    },
    {
      "cell_type": "code",
      "metadata": {
        "id": "es3f_XE1NFOf",
        "colab": {
          "base_uri": "https://localhost:8080/"
        },
        "outputId": "49909499-68ab-470e-b05e-21ff42dbd0d7"
      },
      "source": [
        "from nltk.sentiment.vader import SentimentIntensityAnalyzer\n",
        "\n",
        "nltk.download(\"vader_lexicon\")"
      ],
      "execution_count": null,
      "outputs": [
        {
          "output_type": "stream",
          "name": "stdout",
          "text": [
            "[nltk_data] Downloading package vader_lexicon to /root/nltk_data...\n",
            "[nltk_data]   Package vader_lexicon is already up-to-date!\n"
          ]
        },
        {
          "output_type": "stream",
          "name": "stderr",
          "text": [
            "/usr/local/lib/python3.7/dist-packages/nltk/twitter/__init__.py:20: UserWarning: The twython library has not been installed. Some functionality from the twitter package will not be available.\n",
            "  warnings.warn(\"The twython library has not been installed. \"\n"
          ]
        },
        {
          "output_type": "execute_result",
          "data": {
            "text/plain": [
              "True"
            ]
          },
          "metadata": {},
          "execution_count": 14
        }
      ]
    },
    {
      "cell_type": "code",
      "metadata": {
        "id": "pBpraOYZSvra",
        "colab": {
          "base_uri": "https://localhost:8080/",
          "height": 203
        },
        "outputId": "ca619a92-14e6-4c56-fd7c-e7cab12d6a3c"
      },
      "source": [
        "senti=SentimentIntensityAnalyzer()\n",
        "data[\"sentiment\"]=data[\"tweet\"].apply(lambda x: senti.polarity_scores(x))\n",
        "data.head()"
      ],
      "execution_count": null,
      "outputs": [
        {
          "output_type": "execute_result",
          "data": {
            "text/html": [
              "<div>\n",
              "<style scoped>\n",
              "    .dataframe tbody tr th:only-of-type {\n",
              "        vertical-align: middle;\n",
              "    }\n",
              "\n",
              "    .dataframe tbody tr th {\n",
              "        vertical-align: top;\n",
              "    }\n",
              "\n",
              "    .dataframe thead th {\n",
              "        text-align: right;\n",
              "    }\n",
              "</style>\n",
              "<table border=\"1\" class=\"dataframe\">\n",
              "  <thead>\n",
              "    <tr style=\"text-align: right;\">\n",
              "      <th></th>\n",
              "      <th>id</th>\n",
              "      <th>label</th>\n",
              "      <th>tweet</th>\n",
              "      <th>sentiment</th>\n",
              "    </tr>\n",
              "  </thead>\n",
              "  <tbody>\n",
              "    <tr>\n",
              "      <th>0</th>\n",
              "      <td>1</td>\n",
              "      <td>0</td>\n",
              "      <td>user father dysfunct selfish drag kid dysfunct...</td>\n",
              "      <td>{'neg': 0.455, 'neu': 0.545, 'pos': 0.0, 'comp...</td>\n",
              "    </tr>\n",
              "    <tr>\n",
              "      <th>1</th>\n",
              "      <td>2</td>\n",
              "      <td>0</td>\n",
              "      <td>user user thank lyft credit cant use caus dont...</td>\n",
              "      <td>{'neg': 0.0, 'neu': 0.718, 'pos': 0.282, 'comp...</td>\n",
              "    </tr>\n",
              "    <tr>\n",
              "      <th>2</th>\n",
              "      <td>3</td>\n",
              "      <td>0</td>\n",
              "      <td>bihday majesti</td>\n",
              "      <td>{'neg': 0.0, 'neu': 1.0, 'pos': 0.0, 'compound...</td>\n",
              "    </tr>\n",
              "    <tr>\n",
              "      <th>3</th>\n",
              "      <td>4</td>\n",
              "      <td>0</td>\n",
              "      <td>model love u take u time urð ð ð ð ð ð ð ð</td>\n",
              "      <td>{'neg': 0.0, 'neu': 0.488, 'pos': 0.512, 'comp...</td>\n",
              "    </tr>\n",
              "    <tr>\n",
              "      <th>4</th>\n",
              "      <td>5</td>\n",
              "      <td>0</td>\n",
              "      <td>factsguid societi motiv</td>\n",
              "      <td>{'neg': 0.0, 'neu': 1.0, 'pos': 0.0, 'compound...</td>\n",
              "    </tr>\n",
              "  </tbody>\n",
              "</table>\n",
              "</div>"
            ],
            "text/plain": [
              "   id  ...                                          sentiment\n",
              "0   1  ...  {'neg': 0.455, 'neu': 0.545, 'pos': 0.0, 'comp...\n",
              "1   2  ...  {'neg': 0.0, 'neu': 0.718, 'pos': 0.282, 'comp...\n",
              "2   3  ...  {'neg': 0.0, 'neu': 1.0, 'pos': 0.0, 'compound...\n",
              "3   4  ...  {'neg': 0.0, 'neu': 0.488, 'pos': 0.512, 'comp...\n",
              "4   5  ...  {'neg': 0.0, 'neu': 1.0, 'pos': 0.0, 'compound...\n",
              "\n",
              "[5 rows x 4 columns]"
            ]
          },
          "metadata": {},
          "execution_count": 15
        }
      ]
    },
    {
      "cell_type": "code",
      "metadata": {
        "id": "Ue6weP46boZI"
      },
      "source": [
        "def remove_pattern(input_txt, pattern):\n",
        "    r = re.findall(pattern, input_txt)\n",
        "    for i in r:\n",
        "        input_txt = re.sub(i, '', input_txt)        \n",
        "    return input_txt\n"
      ],
      "execution_count": null,
      "outputs": []
    },
    {
      "cell_type": "code",
      "metadata": {
        "id": "YIRRkHMebBZD"
      },
      "source": [
        "import numpy as np\n",
        "def clean_tweets(lst):\n",
        "    # to remove twitter Return handlesS\n",
        "    lst = np.vectorize(remove_pattern)(lst, \"RT @[\\w]*:\")\n",
        "    # remove twitter handles (@xxx)\n",
        "    lst = np.vectorize(remove_pattern)(lst, \"@[\\w]*\")\n",
        "    # to remove URL links\n",
        "    lst = np.vectorize(remove_pattern)(lst, \"https?://[A-Za-z0-9./]*\")\n",
        "    # remove special characters, numbers, punctuations (except for #)\n",
        "    lst = np.core.defchararray.replace(lst, \"[^a-zA-Z#]\", \" \")\n",
        "    return lst"
      ],
      "execution_count": null,
      "outputs": []
    },
    {
      "cell_type": "code",
      "metadata": {
        "id": "joi1PGkabSd_",
        "colab": {
          "base_uri": "https://localhost:8080/",
          "height": 203
        },
        "outputId": "5fd49bc8-fdc1-4ffa-f656-1d2cb068c4ef"
      },
      "source": [
        "data[\"tweet\"]=data[\"tweet\"].apply(lambda x: clean_tweets(x))\n",
        "data.head()"
      ],
      "execution_count": null,
      "outputs": [
        {
          "output_type": "execute_result",
          "data": {
            "text/html": [
              "<div>\n",
              "<style scoped>\n",
              "    .dataframe tbody tr th:only-of-type {\n",
              "        vertical-align: middle;\n",
              "    }\n",
              "\n",
              "    .dataframe tbody tr th {\n",
              "        vertical-align: top;\n",
              "    }\n",
              "\n",
              "    .dataframe thead th {\n",
              "        text-align: right;\n",
              "    }\n",
              "</style>\n",
              "<table border=\"1\" class=\"dataframe\">\n",
              "  <thead>\n",
              "    <tr style=\"text-align: right;\">\n",
              "      <th></th>\n",
              "      <th>id</th>\n",
              "      <th>label</th>\n",
              "      <th>tweet</th>\n",
              "      <th>sentiment</th>\n",
              "    </tr>\n",
              "  </thead>\n",
              "  <tbody>\n",
              "    <tr>\n",
              "      <th>0</th>\n",
              "      <td>1</td>\n",
              "      <td>0</td>\n",
              "      <td>user father dysfunct selfish drag kid dysfunct...</td>\n",
              "      <td>{'neg': 0.455, 'neu': 0.545, 'pos': 0.0, 'comp...</td>\n",
              "    </tr>\n",
              "    <tr>\n",
              "      <th>1</th>\n",
              "      <td>2</td>\n",
              "      <td>0</td>\n",
              "      <td>user user thank lyft credit cant use caus dont...</td>\n",
              "      <td>{'neg': 0.0, 'neu': 0.718, 'pos': 0.282, 'comp...</td>\n",
              "    </tr>\n",
              "    <tr>\n",
              "      <th>2</th>\n",
              "      <td>3</td>\n",
              "      <td>0</td>\n",
              "      <td>bihday majesti</td>\n",
              "      <td>{'neg': 0.0, 'neu': 1.0, 'pos': 0.0, 'compound...</td>\n",
              "    </tr>\n",
              "    <tr>\n",
              "      <th>3</th>\n",
              "      <td>4</td>\n",
              "      <td>0</td>\n",
              "      <td>model love u take u time urð ð ð ð ð ð ð ð</td>\n",
              "      <td>{'neg': 0.0, 'neu': 0.488, 'pos': 0.512, 'comp...</td>\n",
              "    </tr>\n",
              "    <tr>\n",
              "      <th>4</th>\n",
              "      <td>5</td>\n",
              "      <td>0</td>\n",
              "      <td>factsguid societi motiv</td>\n",
              "      <td>{'neg': 0.0, 'neu': 1.0, 'pos': 0.0, 'compound...</td>\n",
              "    </tr>\n",
              "  </tbody>\n",
              "</table>\n",
              "</div>"
            ],
            "text/plain": [
              "   id  ...                                          sentiment\n",
              "0   1  ...  {'neg': 0.455, 'neu': 0.545, 'pos': 0.0, 'comp...\n",
              "1   2  ...  {'neg': 0.0, 'neu': 0.718, 'pos': 0.282, 'comp...\n",
              "2   3  ...  {'neg': 0.0, 'neu': 1.0, 'pos': 0.0, 'compound...\n",
              "3   4  ...  {'neg': 0.0, 'neu': 0.488, 'pos': 0.512, 'comp...\n",
              "4   5  ...  {'neg': 0.0, 'neu': 1.0, 'pos': 0.0, 'compound...\n",
              "\n",
              "[5 rows x 4 columns]"
            ]
          },
          "metadata": {},
          "execution_count": 18
        }
      ]
    },
    {
      "cell_type": "code",
      "metadata": {
        "id": "vICQC3HQTnkY"
      },
      "source": [
        "def sentiment_analyzer_scores(text):\n",
        "    score = senti.polarity_scores(text)\n",
        "    lb = score['compound']\n",
        "    if lb >= 0.05:\n",
        "        return 1\n",
        "    elif (lb > -0.05) and (lb < 0.05):\n",
        "        return 0\n",
        "    else:\n",
        "        return -1"
      ],
      "execution_count": null,
      "outputs": []
    },
    {
      "cell_type": "code",
      "metadata": {
        "id": "hQXwzo7NIq8O"
      },
      "source": [
        "import numpy as np\n",
        "from scipy.sparse import hstack\n",
        "from sklearn.feature_extraction.text import CountVectorizer\n",
        "count_vectorizer = CountVectorizer(ngram_range=(1,2))"
      ],
      "execution_count": null,
      "outputs": []
    },
    {
      "cell_type": "code",
      "metadata": {
        "id": "1b-TbDP2I1hv"
      },
      "source": [
        "import pandas as pd\n",
        "from sklearn.feature_extraction.text import TfidfVectorizer  \n",
        "tfidfconverter = TfidfVectorizer()  \n",
        "X = tfidfconverter.fit_transform(data.tweet).toarray()\n",
        "\n"
      ],
      "execution_count": null,
      "outputs": []
    },
    {
      "cell_type": "code",
      "metadata": {
        "id": "59jWv1FY5d5J"
      },
      "source": [
        "y = data.label"
      ],
      "execution_count": null,
      "outputs": []
    },
    {
      "cell_type": "code",
      "metadata": {
        "id": "fVo2iwI5LLJ0"
      },
      "source": [
        "from sklearn.model_selection import train_test_split  \n",
        "X_train, X_test, y_train, y_test = train_test_split(X, y, test_size=0.2, random_state=0)\n"
      ],
      "execution_count": null,
      "outputs": []
    },
    {
      "cell_type": "code",
      "metadata": {
        "id": "HwriBAFALyo5",
        "colab": {
          "base_uri": "https://localhost:8080/"
        },
        "outputId": "14d21cf1-d8a3-4795-aac1-1c0805142264"
      },
      "source": [
        "from sklearn.ensemble import RandomForestClassifier\n",
        "text_classifier = RandomForestClassifier()  \n",
        "text_classifier.fit(X_train, y_train)"
      ],
      "execution_count": null,
      "outputs": [
        {
          "output_type": "execute_result",
          "data": {
            "text/plain": [
              "RandomForestClassifier(bootstrap=True, ccp_alpha=0.0, class_weight=None,\n",
              "                       criterion='gini', max_depth=None, max_features='auto',\n",
              "                       max_leaf_nodes=None, max_samples=None,\n",
              "                       min_impurity_decrease=0.0, min_impurity_split=None,\n",
              "                       min_samples_leaf=1, min_samples_split=2,\n",
              "                       min_weight_fraction_leaf=0.0, n_estimators=100,\n",
              "                       n_jobs=None, oob_score=False, random_state=None,\n",
              "                       verbose=0, warm_start=False)"
            ]
          },
          "metadata": {},
          "execution_count": 27
        }
      ]
    },
    {
      "cell_type": "code",
      "metadata": {
        "id": "P0MnTuNjLmCI"
      },
      "source": [
        "predictions = text_classifier.predict(X_test)"
      ],
      "execution_count": null,
      "outputs": []
    },
    {
      "cell_type": "code",
      "metadata": {
        "id": "GYBbkL965R5G"
      },
      "source": [
        "from sklearn.ensemble import VotingClassifier\n",
        "from sklearn import model_selection\n",
        "from sklearn.metrics import confusion_matrix,classification_report,roc_curve,f1_score,roc_auc_score,auc\n",
        "from sklearn. preprocessing import StandardScaler\n",
        "from sklearn.model_selection import train_test_split\n",
        "from sklearn.model_selection import GridSearchCV\n",
        "from sklearn.metrics import classification_report, confusion_matrix, accuracy_score\n",
        " "
      ],
      "execution_count": null,
      "outputs": []
    },
    {
      "cell_type": "code",
      "metadata": {
        "id": "zdgjXFtFL3eB",
        "colab": {
          "base_uri": "https://localhost:8080/"
        },
        "outputId": "03cd58ac-1b86-44de-f427-d80448f85a05"
      },
      "source": [
        "\n",
        "kfold = model_selection.KFold(n_splits=10, random_state = 0)\n",
        "result1 = model_selection.cross_val_score(text_classifier, X_train, y_train, cv=kfold)\n",
        "print('Accuracy of Random Forest Classifier Model = ',result1.mean())\n",
        "f1_svm1 = f1_score(y_test, predictions,average='macro')\n",
        "print('f1 score:',f1_svm1)\n",
        "print('confusion matrix for 3 classes:\\n',confusion_matrix(y_test,predictions))"
      ],
      "execution_count": null,
      "outputs": [
        {
          "output_type": "stream",
          "name": "stderr",
          "text": [
            "/usr/local/lib/python3.7/dist-packages/sklearn/model_selection/_split.py:296: FutureWarning: Setting a random_state has no effect since shuffle is False. This will raise an error in 0.24. You should leave random_state to its default (None), or set shuffle=True.\n",
            "  FutureWarning\n"
          ]
        },
        {
          "output_type": "stream",
          "name": "stdout",
          "text": [
            "Accuracy of Random Forest Classifier Model =  0.951\n",
            "f1 score: 0.6955190554324475\n",
            "confusion matrix for 3 classes:\n",
            " [[1853    8]\n",
            " [ 100   39]]\n"
          ]
        }
      ]
    },
    {
      "cell_type": "code",
      "metadata": {
        "id": "a_OMuQSdKnMQ",
        "colab": {
          "base_uri": "https://localhost:8080/"
        },
        "outputId": "23a0b50f-7a8c-4035-8f9b-098d813183c9"
      },
      "source": [
        "from sklearn.linear_model import LogisticRegression\n",
        "text_classifier1 = LogisticRegression(C=5, class_weight=None, dual=False,\n",
        "          fit_intercept=True, intercept_scaling=1, max_iter=100,\n",
        "          multi_class='multinomial', n_jobs=None, penalty='l2', random_state=None,\n",
        "          solver='newton-cg', tol=0.0001, verbose=0, warm_start=False)\n",
        "text_classifier1.fit(X_train, y_train)"
      ],
      "execution_count": null,
      "outputs": [
        {
          "output_type": "execute_result",
          "data": {
            "text/plain": [
              "LogisticRegression(C=5, class_weight=None, dual=False, fit_intercept=True,\n",
              "                   intercept_scaling=1, l1_ratio=None, max_iter=100,\n",
              "                   multi_class='multinomial', n_jobs=None, penalty='l2',\n",
              "                   random_state=None, solver='newton-cg', tol=0.0001, verbose=0,\n",
              "                   warm_start=False)"
            ]
          },
          "metadata": {},
          "execution_count": 28
        }
      ]
    },
    {
      "cell_type": "code",
      "metadata": {
        "id": "nY-yvyvSusVx"
      },
      "source": [
        "predictions1 = text_classifier1.predict(X_test)"
      ],
      "execution_count": null,
      "outputs": []
    },
    {
      "cell_type": "code",
      "metadata": {
        "id": "G0Ami1k1ux4X",
        "colab": {
          "base_uri": "https://localhost:8080/"
        },
        "outputId": "102a979a-8f2c-4faa-cdb8-15f868a84c7f"
      },
      "source": [
        "kfold = model_selection.KFold(n_splits=10, random_state = 0)\n",
        "result2 = model_selection.cross_val_score(text_classifier1, X_train, y_train, cv=kfold)\n",
        "print('Accuracy of Logistic Regression Model = ',result2.mean())\n",
        "f1_svm2 = f1_score(y_test, predictions1,average='macro')\n",
        "print('f1 score:',f1_svm2)\n",
        "print('confusion matrix for 3 classes:\\n',confusion_matrix(y_test,predictions1))\n"
      ],
      "execution_count": null,
      "outputs": [
        {
          "output_type": "stream",
          "name": "stderr",
          "text": [
            "/usr/local/lib/python3.7/dist-packages/sklearn/model_selection/_split.py:296: FutureWarning: Setting a random_state has no effect since shuffle is False. This will raise an error in 0.24. You should leave random_state to its default (None), or set shuffle=True.\n",
            "  FutureWarning\n"
          ]
        },
        {
          "output_type": "stream",
          "name": "stdout",
          "text": [
            "Accuracy of Logistic Regression Model =  0.9512499999999999\n",
            "f1 score: 0.7153446004777746\n",
            "confusion matrix for 3 classes:\n",
            " [[1855    6]\n",
            " [  96   43]]\n"
          ]
        }
      ]
    }
  ]
}